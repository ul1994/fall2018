{
 "cells": [
  {
   "cell_type": "code",
   "execution_count": 1,
   "metadata": {},
   "outputs": [],
   "source": [
    "import json\n",
    "from glob import glob"
   ]
  },
  {
   "cell_type": "code",
   "execution_count": 3,
   "metadata": {},
   "outputs": [
    {
     "data": {
      "text/plain": [
       "['../datasets/chest/calc_case_description_test_set.csv',\n",
       " '../datasets/chest/calc_case_description_train_set.csv',\n",
       " '../datasets/chest/mass_case_description_test_set.csv',\n",
       " '../datasets/chest/mass_case_description_train_set.csv']"
      ]
     },
     "execution_count": 3,
     "metadata": {},
     "output_type": "execute_result"
    }
   ],
   "source": [
    "csvs = glob('../datasets/chest/*.csv')\n",
    "csvs"
   ]
  },
  {
   "cell_type": "code",
   "execution_count": 38,
   "metadata": {},
   "outputs": [],
   "source": [
    "import csv\n",
    "\n",
    "records = {}\n",
    "for cpath in csvs:\n",
    "    with open(cpath) as csv_file:\n",
    "        csv_reader = csv.reader(csv_file, delimiter=',')\n",
    "        line_count = 0\n",
    "        for row in csv_reader:\n",
    "            if line_count == 0:\n",
    "#                 print(row)\n",
    "                line_count += 1\n",
    "            else:\n",
    "                sid = '%s_%s_%s' % (row[0], row[2], row[3])\n",
    "#                 print(sid)\n",
    "                \n",
    "                maskfolder = row[-1].split('/')[0]\n",
    "                maskid = maskfolder\n",
    "                desc = {\n",
    "                    'maskid': maskid,\n",
    "                    'type': row[5],\n",
    "                    'details': row[6],\n",
    "                    'locality': row[7],\n",
    "                    'pathology': row[9],\n",
    "                }\n",
    "                records[maskid] = desc\n",
    "                line_count += 1\n",
    "#                 break\n",
    "#     break\n",
    "#         print(f'Processed {line_count} lines.')"
   ]
  },
  {
   "cell_type": "code",
   "execution_count": 39,
   "metadata": {},
   "outputs": [
    {
     "name": "stdout",
     "output_type": "stream",
     "text": [
      "{'details': 'IRREGULAR', 'type': 'mass', 'maskid': 'Mass-Training_P_02092_LEFT_MLO_1', 'pathology': 'MALIGNANT', 'locality': 'SPICULATED'}\n",
      "3568\n"
     ]
    }
   ],
   "source": [
    "print(records[maskid])\n",
    "print(len(records))"
   ]
  },
  {
   "cell_type": "code",
   "execution_count": 40,
   "metadata": {},
   "outputs": [
    {
     "name": "stdout",
     "output_type": "stream",
     "text": [
      "3031\n"
     ]
    }
   ],
   "source": [
    "with open('.cbis_cache.json') as fl:\n",
    "    meta = json.load(fl)\n",
    "print(len(meta))"
   ]
  },
  {
   "cell_type": "code",
   "execution_count": 41,
   "metadata": {},
   "outputs": [
    {
     "name": "stdout",
     "output_type": "stream",
     "text": [
      "{'label': 'cancer', 'masks': ['/home/ubuntu/datasets/chest/CBIS-DDSM/Mass-Test_P_01677_RIGHT_MLO_1/10-04-2016-DDSM-36419/1-ROI mask images-51420/000001.dcm'], 'image': '/home/ubuntu/datasets/chest/CBIS-DDSM/Mass-Test_P_01677_RIGHT_MLO/10-04-2016-DDSM-91270/1-full mammogram images-94568/000000.dcm', 'pid': '01677', 'sid': '01677_RIGHT_MLO'}\n"
     ]
    }
   ],
   "source": [
    "print(meta[0])"
   ]
  },
  {
   "cell_type": "code",
   "execution_count": 43,
   "metadata": {},
   "outputs": [],
   "source": [
    "for mii, ent in enumerate(meta):\n",
    "    ent['details'] = []\n",
    "    for maskpath in ent['masks']:\n",
    "        maskid = maskpath.split('/')[-4]\n",
    "        \n",
    "        \n",
    "        try:\n",
    "            assert maskid in records\n",
    "        except:\n",
    "            print(mii, maskid)\n",
    "        ent['details'].append(records[maskid])"
   ]
  },
  {
   "cell_type": "code",
   "execution_count": 44,
   "metadata": {},
   "outputs": [
    {
     "name": "stdout",
     "output_type": "stream",
     "text": [
      "{'label': 'cancer', 'pid': '01677', 'details': [{'details': 'OVAL', 'type': 'mass', 'maskid': 'Mass-Test_P_01677_RIGHT_MLO_1', 'pathology': 'BENIGN', 'locality': 'OBSCURED'}], 'masks': ['/home/ubuntu/datasets/chest/CBIS-DDSM/Mass-Test_P_01677_RIGHT_MLO_1/10-04-2016-DDSM-36419/1-ROI mask images-51420/000001.dcm'], 'image': '/home/ubuntu/datasets/chest/CBIS-DDSM/Mass-Test_P_01677_RIGHT_MLO/10-04-2016-DDSM-91270/1-full mammogram images-94568/000000.dcm', 'sid': '01677_RIGHT_MLO'}\n"
     ]
    }
   ],
   "source": [
    "print(meta[0])"
   ]
  },
  {
   "cell_type": "code",
   "execution_count": 46,
   "metadata": {},
   "outputs": [],
   "source": [
    "with open('.cbis_detailed.json', 'w') as fl:\n",
    "    json.dump(meta, fl, indent=4)\n",
    "# print(len(meta))"
   ]
  },
  {
   "cell_type": "code",
   "execution_count": null,
   "metadata": {},
   "outputs": [],
   "source": []
  }
 ],
 "metadata": {
  "kernelspec": {
   "display_name": "Python 3",
   "language": "python",
   "name": "python3"
  },
  "language_info": {
   "codemirror_mode": {
    "name": "ipython",
    "version": 3
   },
   "file_extension": ".py",
   "mimetype": "text/x-python",
   "name": "python",
   "nbconvert_exporter": "python",
   "pygments_lexer": "ipython3",
   "version": "3.5.2"
  }
 },
 "nbformat": 4,
 "nbformat_minor": 2
}
