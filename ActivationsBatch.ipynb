{
 "cells": [
  {
   "cell_type": "code",
   "execution_count": 1,
   "metadata": {},
   "outputs": [],
   "source": [
    "import os, sys\n",
    "from glob import glob\n",
    "import json"
   ]
  },
  {
   "cell_type": "code",
   "execution_count": 2,
   "metadata": {},
   "outputs": [],
   "source": [
    "DPATH = '/beegfs/ua349/contours'\n",
    "OUTPATH = '/beegfs/ua349/activations/gap_mask_v1'"
   ]
  },
  {
   "cell_type": "code",
   "execution_count": 3,
   "metadata": {},
   "outputs": [
    {
     "name": "stdout",
     "output_type": "stream",
     "text": [
      "3555\n",
      "/beegfs/ua349/contours/centered/00235_RIGHT_MLO_2607-1779.npy\n"
     ]
    }
   ],
   "source": [
    "sickfiles = glob('%s/centered/*.npy' % DPATH)\n",
    "print(len(sickfiles))\n",
    "print(sickfiles[0])"
   ]
  },
  {
   "cell_type": "code",
   "execution_count": 4,
   "metadata": {},
   "outputs": [],
   "source": [
    "\n",
    "def specfile(prefix, bnumber, inpfiles):\n",
    "    spec = []\n",
    "    for fpath in inpfiles:\n",
    "        ent = { 'from': fpath }\n",
    "        ent['to'] = fpath.replace(DPATH, OUTPATH)\n",
    "        spec.append(ent)\n",
    "    \n",
    "    with open('jobs/%s_%d.json' % (prefix, bnumber), 'w') as fl:\n",
    "        json.dump(spec, fl, indent=4)"
   ]
  },
  {
   "cell_type": "code",
   "execution_count": 5,
   "metadata": {},
   "outputs": [],
   "source": [
    "specfile('centered', 0, sickfiles)"
   ]
  },
  {
   "cell_type": "code",
   "execution_count": 12,
   "metadata": {},
   "outputs": [
    {
     "name": "stdout",
     "output_type": "stream",
     "text": [
      "70516\n",
      "/beegfs/ua349/contours/healthy/00642_LEFT_MLO_0-0.npy\n"
     ]
    }
   ],
   "source": [
    "hfiles = glob('%s/healthy/*.npy' % DPATH)\n",
    "print(len(hfiles))\n",
    "print(hfiles[0])"
   ]
  },
  {
   "cell_type": "code",
   "execution_count": 14,
   "metadata": {},
   "outputs": [
    {
     "name": "stdout",
     "output_type": "stream",
     "text": [
      "7000\n",
      "7000\n",
      "7000\n",
      "7000\n",
      "7000\n",
      "7000\n",
      "7000\n",
      "7000\n",
      "7000\n",
      "7000\n",
      "516\n"
     ]
    }
   ],
   "source": [
    "bsize = 7000\n",
    "for bii in range(0, len(hfiles), bsize):\n",
    "    batch = hfiles[bii:bii+bsize]\n",
    "    print(len(batch))\n",
    "    specfile('healthy', bii//bsize, batch)"
   ]
  },
  {
   "cell_type": "code",
   "execution_count": null,
   "metadata": {},
   "outputs": [],
   "source": []
  }
 ],
 "metadata": {
  "kernelspec": {
   "display_name": "Python 3",
   "language": "python",
   "name": "python3"
  },
  "language_info": {
   "codemirror_mode": {
    "name": "ipython",
    "version": 3
   },
   "file_extension": ".py",
   "mimetype": "text/x-python",
   "name": "python",
   "nbconvert_exporter": "python",
   "pygments_lexer": "ipython3",
   "version": "3.6.3"
  }
 },
 "nbformat": 4,
 "nbformat_minor": 2
}
