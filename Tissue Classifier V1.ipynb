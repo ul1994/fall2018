{
 "cells": [
  {
   "cell_type": "code",
   "execution_count": null,
   "metadata": {},
   "outputs": [],
   "source": [
    "%load_ext autoreload\n",
    "%autoreload 2\n",
    "%matplotlib inline\n",
    "\n",
    "from datasets import *\n",
    "import matplotlib.pyplot as plt\n",
    "import cv2\n",
    "from keras.datasets import mnist\n",
    "import tensorflow as tf\n",
    "import numpy as np\n",
    "from random import randint\n",
    "import keras\n",
    "import keras.backend as K\n",
    "from keras.models import Model, Sequential\n",
    "from keras.layers.merge import Concatenate\n",
    "from keras.layers import Input, Reshape, Dense, Conv2D, Dropout, \\\n",
    "    MaxPooling2D, Flatten, UpSampling2D, Multiply, Activation, AveragePooling2D, \\\n",
    "    Add, Subtract, Lambda\n",
    "from keras.layers.normalization import BatchNormalization\n",
    "from keras.callbacks import ModelCheckpoint, TensorBoard\n",
    "from scipy.ndimage import gaussian_filter as blur\n",
    "from keras.optimizers import Adam\n",
    "from keras.utils import multi_gpu_model as mgpu\n",
    "from keras.utils import np_utils\n",
    "import os, sys"
   ]
  },
  {
   "cell_type": "code",
   "execution_count": null,
   "metadata": {},
   "outputs": [],
   "source": [
    "from models.yprob import yprob\n",
    "\n",
    "model = yprob(imsize=256)\n",
    "\n",
    "print(model.model.count_params())\n",
    "model.compile()\n",
    "print('LR', K.eval(model.model.optimizer.lr))"
   ]
  },
  {
   "cell_type": "code",
   "execution_count": null,
   "metadata": {},
   "outputs": [],
   "source": [
    "dset = Tissue()"
   ]
  },
  {
   "cell_type": "code",
   "execution_count": null,
   "metadata": {},
   "outputs": [],
   "source": [
    "datagen = dset.gen()\n",
    "print(type(datagen))\n",
    "\n",
    "for ii in range(50):\n",
    "    imgs, lbls = next(datagen)\n",
    "print(type(imgs))\n",
    "print(type(lbls))\n",
    "print(imgs.shape)\n",
    "print(imgs[0].shape, imgs[0].dtype, np.max(imgs[0]))\n",
    "print(lbls.shape)\n",
    "print(lbls[0])\n"
   ]
  },
  {
   "cell_type": "code",
   "execution_count": null,
   "metadata": {},
   "outputs": [],
   "source": [
    "plt.figure(figsize=(14, 5))\n",
    "for ii in range(5):\n",
    "    plt.subplot(1, 5, ii+1)\n",
    "    plt.gca().set_title('%s: %.2f~%.2f' % (lbls[ii], np.min(imgs[ii]), np.max(imgs[ii])))\n",
    "    plt.imshow(imgs[ii, :, :, 0], vmin=0, vmax=1)\n",
    "plt.show()\n",
    "plt.close()"
   ]
  },
  {
   "cell_type": "code",
   "execution_count": null,
   "metadata": {
    "scrolled": false
   },
   "outputs": [],
   "source": [
    "bsize=32\n",
    "\n",
    "LOGFOLDER = 'logs'\n",
    "TAG = 'mnist'\n",
    "try: shutil.rmtree('./%s/%s' % (LOGFOLDER, TAG)) \n",
    "except: pass\n",
    "board_cb = TensorBoard('%s/%s' % (LOGFOLDER, TAG))\n",
    "\n",
    "datagen = dset.gen(bsize=bsize)\n",
    "evalgen = dset.gen(bsize=bsize, mode='test')\n",
    "model.model.fit_generator(\n",
    "    datagen,\n",
    "    epochs=4,\n",
    "    verbose=1,\n",
    "    steps_per_epoch=dset.train_size // bsize,\n",
    "#     steps_per_epoch=1,\n",
    "    validation_data=evalgen,\n",
    "    validation_steps=dset.test_size // bsize // 10 # just do 10th of val data\n",
    ")\n"
   ]
  },
  {
   "cell_type": "code",
   "execution_count": null,
   "metadata": {},
   "outputs": [],
   "source": [
    "# TODO: visualize mistaking tiles"
   ]
  },
  {
   "cell_type": "code",
   "execution_count": null,
   "metadata": {},
   "outputs": [],
   "source": []
  }
 ],
 "metadata": {
  "kernelspec": {
   "display_name": "Python 3",
   "language": "python",
   "name": "python3"
  },
  "language_info": {
   "codemirror_mode": {
    "name": "ipython",
    "version": 3
   },
   "file_extension": ".py",
   "mimetype": "text/x-python",
   "name": "python",
   "nbconvert_exporter": "python",
   "pygments_lexer": "ipython3",
   "version": "3.5.2"
  }
 },
 "nbformat": 4,
 "nbformat_minor": 2
}
