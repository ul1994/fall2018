{
 "cells": [
  {
   "cell_type": "code",
   "execution_count": 2,
   "metadata": {},
   "outputs": [],
   "source": [
    "import numpy as np\n",
    "import cv2\n",
    "import os, sys\n",
    "import matplotlib.pyplot as plt"
   ]
  },
  {
   "cell_type": "code",
   "execution_count": 10,
   "metadata": {},
   "outputs": [
    {
     "name": "stdout",
     "output_type": "stream",
     "text": [
      "278564\n",
      "101714\n",
      "101714 masks\n"
     ]
    }
   ],
   "source": [
    "DPATH = '/home/ubuntu/datasets/tissue'\n",
    "HPATH = '%s/healthy' % DPATH\n",
    "CPATH = '%s/cancers' % DPATH\n",
    "\n",
    "healthy_samples = os.listdir(HPATH)\n",
    "print(len(healthy_samples))\n",
    "\n",
    "cancer_samples = [fl for fl in os.listdir(CPATH) if '.npy' in fl]\n",
    "cancer_masks = [fl for fl in os.listdir(CPATH) if '.jpg' in fl]\n",
    "print(len(cancer_samples))\n",
    "print('%d masks' % len(cancer_masks))"
   ]
  },
  {
   "cell_type": "code",
   "execution_count": 12,
   "metadata": {},
   "outputs": [
    {
     "name": "stdout",
     "output_type": "stream",
     "text": [
      "2953 unique cases\n"
     ]
    }
   ],
   "source": [
    "bycases = {}\n",
    "\n",
    "def strip_sid(raw):\n",
    "    sid = '_'.join(raw.split('_')[:-2])\n",
    "    return sid\n",
    "for samp in cancer_samples:\n",
    "    sid = strip_sid(samp)\n",
    "    if sid not in bycases: bycases[sid] = []\n",
    "    bycases[sid].append(samp)\n",
    "\n",
    "print('%d unique cases' % len(bycases))"
   ]
  },
  {
   "cell_type": "code",
   "execution_count": 33,
   "metadata": {},
   "outputs": [
    {
     "name": "stdout",
     "output_type": "stream",
     "text": [
      "58868.95 avg area\n"
     ]
    }
   ],
   "source": [
    "maxsamp = 3\n",
    "all_areas = []\n",
    "for ii, (sid, samples) in enumerate(bycases.items()):\n",
    "    areas = []\n",
    "    for samp in samples[:maxsamp]:\n",
    "        mpath = '%s/%s.jpg' % (CPATH, samp.replace('.npy', '')) \n",
    "        mask = cv2.imread(mpath, 0)\n",
    "        area = np.sum(mask > 0)\n",
    "        try:\n",
    "            assert area <= mask.shape[0] * mask.shape[1]\n",
    "        except:\n",
    "            print(area, mask.shape)\n",
    "            assert False\n",
    "        areas.append(area)\n",
    "    all_areas.append(np.mean(areas))\n",
    "    \n",
    "    if ii % 20 == 0:\n",
    "        sys.stdout.write('%d/%d        \\r' % (ii, len(bycases)))\n",
    "        sys.stdout.flush()\n",
    "    \n",
    "print('%.2f avg area' % np.mean(all_areas))  "
   ]
  },
  {
   "cell_type": "code",
   "execution_count": 34,
   "metadata": {},
   "outputs": [
    {
     "name": "stdout",
     "output_type": "stream",
     "text": [
      "58868.95 avg area\n",
      "1301.00 min area\n",
      "147456.00 max area\n"
     ]
    }
   ],
   "source": [
    "print('%.2f avg area' % np.mean(all_areas))\n",
    "print('%.2f min area' % np.min(all_areas))\n",
    "print('%.2f max area' % np.max(all_areas))"
   ]
  },
  {
   "cell_type": "code",
   "execution_count": 38,
   "metadata": {},
   "outputs": [
    {
     "data": {
      "image/png": "[encoded data removed]",
      "text/plain": [
       "<Figure size 1008x360 with 1 Axes>"
      ]
     },
     "metadata": {},
     "output_type": "display_data"
    }
   ],
   "source": [
    "all_areas = sorted(all_areas)\n",
    "plt.figure(figsize=(14, 5))\n",
    "plt.plot(np.sqrt(all_areas))\n",
    "plt.plot([0, len(all_areas)], [384, 384])\n",
    "# plt.bar(list(range(len(dist))), dist)\n",
    "plt.show()\n",
    "plt.close()"
   ]
  },
  {
   "cell_type": "code",
   "execution_count": null,
   "metadata": {},
   "outputs": [],
   "source": []
  }
 ],
 "metadata": {
  "kernelspec": {
   "display_name": "Python 3",
   "language": "python",
   "name": "python3"
  },
  "language_info": {
   "codemirror_mode": {
    "name": "ipython",
    "version": 3
   },
   "file_extension": ".py",
   "mimetype": "text/x-python",
   "name": "python",
   "nbconvert_exporter": "python",
   "pygments_lexer": "ipython3",
   "version": "3.5.2"
  }
 },
 "nbformat": 4,
 "nbformat_minor": 2
}
