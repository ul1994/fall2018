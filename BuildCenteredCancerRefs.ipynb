{
 "cells": [
  {
   "cell_type": "code",
   "execution_count": 1,
   "metadata": {},
   "outputs": [],
   "source": [
    "import os, sys, cv2, pydicom\n",
    "import numpy as np"
   ]
  },
  {
   "cell_type": "code",
   "execution_count": 2,
   "metadata": {},
   "outputs": [],
   "source": [
    "DPATH = '/home/ubuntu/datasets/chest/CBIS-DDSM'\n",
    "cases = os.listdir(DPATH)"
   ]
  },
  {
   "cell_type": "code",
   "execution_count": 3,
   "metadata": {},
   "outputs": [
    {
     "name": "stdout",
     "output_type": "stream",
     "text": [
      "3031\n"
     ]
    }
   ],
   "source": [
    "import json\n",
    "\n",
    "# with open('.cbis_cache.json', 'w') as fl:\n",
    "#     json.dump(tosave, fl, indent=4)\n",
    "    \n",
    "with open('.cbis_cache.json') as fl:\n",
    "    tosave = json.load(fl)\n",
    "\n",
    "print(len(tosave))"
   ]
  },
  {
   "cell_type": "code",
   "execution_count": 4,
   "metadata": {},
   "outputs": [],
   "source": [
    "import matplotlib.pyplot as plt"
   ]
  },
  {
   "cell_type": "code",
   "execution_count": 5,
   "metadata": {},
   "outputs": [],
   "source": [
    "# mass = [ent for ent in tosave if 'Mass' in ent['image']]\n",
    "# print(len(mass))"
   ]
  },
  {
   "cell_type": "code",
   "execution_count": 6,
   "metadata": {},
   "outputs": [],
   "source": [
    "# tosave = mass"
   ]
  },
  {
   "cell_type": "code",
   "execution_count": 7,
   "metadata": {},
   "outputs": [
    {
     "name": "stdout",
     "output_type": "stream",
     "text": [
      "3030/3031   \r"
     ]
    }
   ],
   "source": [
    "def gather_rois(case):\n",
    "    rois = []\n",
    "    for mpath in case['masks']:\n",
    "        with pydicom.dcmread(mpath) as db:\n",
    "            mask = db.pixel_array[:]\n",
    "        roi = np.nonzero(mask)\n",
    "        rois.append(roi)\n",
    "    return rois\n",
    "\n",
    "roi_lookup = {}\n",
    "for ii, case in enumerate(tosave):\n",
    "    roi_lookup[case['sid']] = gather_rois(case)\n",
    "    \n",
    "    sys.stdout.write('%d/%d   \\r' % (ii, len(tosave)))\n",
    "    sys.stdout.flush()\n",
    "#     break"
   ]
  },
  {
   "cell_type": "code",
   "execution_count": 8,
   "metadata": {},
   "outputs": [
    {
     "name": "stdout",
     "output_type": "stream",
     "text": [
      "Resize (5296, 3436) (5296, 3436)\n",
      "Resize (5356, 2581) (5356, 2581)\n",
      "Resize (5356, 2852) (5356, 2851)\n",
      "Resize (5296, 2566) (5296, 2566)\n",
      "Resize (5236, 2971) (5236, 2971)\n",
      "Resize (5026, 2837) (5026, 2836)\n",
      "Resize (5296, 2566) (5296, 2566)\n",
      "Resize (5281, 2477) (5281, 2476)\n",
      "Resize (5266, 2762) (5266, 2761)\n",
      "Resize (5356, 2326) (5356, 2326)\n",
      "Resize (5386, 3437) (5386, 3436)\n",
      "Resize (5386, 3316) (5386, 3316)\n",
      "Resize (5386, 3467) (5386, 3466)\n",
      "Resize (5296, 3062) (5296, 3061)\n",
      "Resize (5386, 3437) (5386, 3436)\n",
      "Resize (5386, 3722) (5386, 3721)\n",
      "Resize (5386, 3286) (5386, 3286)\n",
      "Resize (5236, 3316) (5236, 3316)\n",
      "Resize (5011, 2596) (5011, 2596)\n",
      "Resize (5221, 2971) (5221, 2971)\n",
      "Resize (5341, 3496) (5341, 3496)\n",
      "Resize (5236, 2716) (5236, 2716)\n",
      "Resize (5386, 3092) (5386, 3091)\n",
      "Resize (5386, 3152) (5386, 3151) \n",
      "Resize (5341, 3737) (5341, 3736) \n",
      "Resize (5326, 3422) (5326, 3421) \n",
      "Resize (5386, 3601) (5386, 3601) \n",
      "Resize (5386, 3241) (5386, 3241) \n",
      "Resize (5311, 3196) (5311, 3196) \n",
      "Resize (5386, 3692) (5386, 3691) \n",
      "Resize (5326, 2747) (5326, 2746) \n",
      "Resize (4640, 3091) (4640, 3072) \n",
      "Resize (5281, 2086) (5281, 2086) \n",
      "Resize (5116, 2371) (5116, 2371) \n",
      "Resize (5386, 3226) (5386, 3226) \n",
      "Resize (5221, 3451) (5221, 3451) \n",
      "Resize (5281, 3107) (5281, 3106) \n",
      "Resize (5206, 2941) (5206, 2941) \n",
      "Resize (5221, 2462) (5221, 2461) \n",
      "Resize (5386, 3062) (5386, 3061) \n",
      "Resize (5311, 3556) (5311, 3556) \n",
      "Resize (5386, 3226) (5386, 3226) \n",
      "Resize (5341, 2926) (5341, 2926) \n",
      "Resize (5386, 2837) (5386, 2836) \n",
      "Resize (5251, 2792) (5251, 2791) \n",
      "Resize (5386, 3811) (5386, 3811) \n",
      "Resize (6001, 3001) (6001, 3001) \n",
      "Resize (6376, 3301) (6376, 3301) \n",
      "Resize (5206, 3001) (5206, 3001) \n",
      "Resize (5386, 2656) (5386, 2656) \n",
      "Resize (4921, 2701) (4921, 2701) \n",
      "Resize (5386, 3662) (5386, 3661) \n",
      "Resize (5221, 3391) (5221, 3391) \n",
      "Resize (4966, 3062) (4966, 3061) \n",
      "Resize (4681, 2207) (4681, 2206) \n",
      "Resize (5266, 2762) (5266, 2761) \n",
      "Resize (5296, 3407) (5296, 3406) \n",
      "Resize (5071, 2311) (5071, 2311) \n",
      "Resize (5251, 2641) (5251, 2641) \n",
      "Resize (6286, 3392) (6286, 3391) \n",
      "Resize (5176, 2896) (5176, 2896) \n",
      "Resize (5146, 2747) (5146, 2746) \n",
      "Resize (5206, 3361) (5206, 3361) \n",
      "Resize (5026, 2477) (5026, 2476) \n",
      "Resize (5386, 2522) (5386, 2521) \n",
      "Resize (5236, 3766) (5236, 3766) \n",
      "Resize (5221, 3121) (5221, 3121) \n",
      "Resize (4624, 3046) (4624, 3056) \n",
      "Resize (5386, 2807) (5386, 2806) \n",
      "Resize (5326, 2356) (5326, 2356) \n",
      "Resize (5041, 2056) (5041, 2056) \n",
      "Resize (5281, 3226) (5281, 3226) \n",
      "Resize (5386, 3392) (5386, 3391) \n",
      "Resize (5326, 3001) (5326, 3001) \n",
      "Resize (5386, 3737) (5386, 3736)5 \n",
      "Resize (5386, 3241) (5386, 3241)8 \n",
      "3030/3031  Miss: 76  Toobig: 1049 \r"
     ]
    }
   ],
   "source": [
    "from random import randint\n",
    "\n",
    "def draw_sample(rawimg, rawmask, yy, xx, size=256, pad=64, case=None):\n",
    "    size += pad\n",
    "    half = size//2\n",
    "    x0, y0 = max(0, xx-half), max(0, yy-half)\n",
    "    xf, yf = min(rawimg.shape[1]-1, x0+size), min(rawimg.shape[0]-1, y0+size)\n",
    "    x0, y0 = xf - size, yf - size\n",
    "    \n",
    "    img = rawimg[y0:yf, x0:xf]\n",
    "    mask = rawmask[y0:yf, x0:xf]\n",
    "    try:\n",
    "        assert img.shape == (size, size)\n",
    "        assert mask.shape == (size, size)\n",
    "    except:\n",
    "        raise Exception('Sample mismatch: %s %s' %(img.shape, mask.shape))\n",
    "    return img, mask\n",
    "\n",
    "SAVEPATH = '/home/ubuntu/datasets/tissue/cancers'\n",
    "import h5py\n",
    "__mismatch = 0\n",
    "__toobig = []\n",
    "def sample_boxes(case, ratio=2000, maxout=50):\n",
    "    global __mismatch\n",
    "    samples = []\n",
    "    sid = case['sid']\n",
    "    many = roi_lookup[sid]\n",
    "    with pydicom.dcmread(case['image']) as db:\n",
    "        raw = db.pixel_array[:]\n",
    "    assert len(many) > 0\n",
    "    for mii, (roiY, roiX) in enumerate(many):\n",
    "        if len(roiX) > 320**2: \n",
    "            __toobig.append([case, mii])\n",
    "            continue\n",
    "#         print(len(roiX))\n",
    "        samps = max(1, min(len(roiY) // ratio, maxout))\n",
    "        assert samps > 0\n",
    "        with pydicom.dcmread(case['masks'][mii]) as db:\n",
    "            rawmask = db.pixel_array[:]\n",
    "        try:\n",
    "            assert raw.shape == rawmask.shape\n",
    "        except:\n",
    "            # some masks have been scaled down ~10% for some reason\n",
    "            scale = raw.shape[0] / rawmask.shape[0]\n",
    "            rawmask = cv2.resize(rawmask, (0,0), fx=scale, fy=scale)\n",
    "            print('Resize', rawmask.shape, raw.shape)\n",
    "            __mismatch += 1\n",
    "            \n",
    "        ym, xm = int(np.mean(roiY)), int(np.mean(roiX))\n",
    "        img, mask = draw_sample(raw, rawmask, ym, xm, case=case)\n",
    "#         if img is None: continue # some error sampling\n",
    "            \n",
    "        ref = '%s' % (sid)\n",
    "        mask_path = '%s/%s.jpg'% (SAVEPATH, ref)\n",
    "        cv2.imwrite(mask_path, mask)\n",
    "        img_path = '%s/%s.npy' % (SAVEPATH, ref)\n",
    "        np.save(img_path, img)\n",
    "#         samples.append((img, mask))\n",
    "\n",
    "skip = 0\n",
    "for ii, case in enumerate(tosave[skip:]):\n",
    "    sample_boxes(case)\n",
    "    \n",
    "    sys.stdout.write('%d/%d  Miss: %d  Toobig: %d \\r' % (\n",
    "        ii, len(tosave)-skip, __mismatch, len(__toobig)))\n",
    "    sys.stdout.flush()"
   ]
  },
  {
   "cell_type": "code",
   "execution_count": null,
   "metadata": {},
   "outputs": [],
   "source": [
    "with open('.toobig.json', 'w') as fl:\n",
    "    json.dump(__toobig, fl, indent=4)\n"
   ]
  },
  {
   "cell_type": "code",
   "execution_count": null,
   "metadata": {},
   "outputs": [],
   "source": []
  }
 ],
 "metadata": {
  "kernelspec": {
   "display_name": "Python 3",
   "language": "python",
   "name": "python3"
  },
  "language_info": {
   "codemirror_mode": {
    "name": "ipython",
    "version": 3
   },
   "file_extension": ".py",
   "mimetype": "text/x-python",
   "name": "python",
   "nbconvert_exporter": "python",
   "pygments_lexer": "ipython3",
   "version": "3.5.2"
  }
 },
 "nbformat": 4,
 "nbformat_minor": 2
}
