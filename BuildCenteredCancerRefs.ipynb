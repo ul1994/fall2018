{
 "cells": [
  {
   "cell_type": "code",
   "execution_count": 1,
   "metadata": {},
   "outputs": [],
   "source": [
    "import os, sys, cv2, pydicom\n",
    "import numpy as np"
   ]
  },
  {
   "cell_type": "code",
   "execution_count": 2,
   "metadata": {},
   "outputs": [],
   "source": [
    "DPATH = '/home/ubuntu/datasets/chest/CBIS-DDSM'\n",
    "cases = os.listdir(DPATH)"
   ]
  },
  {
   "cell_type": "code",
   "execution_count": 3,
   "metadata": {},
   "outputs": [
    {
     "name": "stdout",
     "output_type": "stream",
     "text": [
      "3031\n"
     ]
    }
   ],
   "source": [
    "import json\n",
    "\n",
    "# with open('.cbis_cache.json', 'w') as fl:\n",
    "#     json.dump(tosave, fl, indent=4)\n",
    "    \n",
    "with open('.cbis_cache.json') as fl:\n",
    "    tosave = json.load(fl)\n",
    "\n",
    "print(len(tosave))"
   ]
  },
  {
   "cell_type": "code",
   "execution_count": 4,
   "metadata": {},
   "outputs": [],
   "source": [
    "import matplotlib.pyplot as plt"
   ]
  },
  {
   "cell_type": "code",
   "execution_count": 8,
   "metadata": {},
   "outputs": [
    {
     "name": "stdout",
     "output_type": "stream",
     "text": [
      "3030/3031  Miss: 80  Toobig: 1059 \r"
     ]
    }
   ],
   "source": [
    "from random import randint\n",
    "\n",
    "def draw_sample(rawimg, rawmask, yy, xx, size=256, pad=64, case=None):\n",
    "    size += pad\n",
    "    half = size//2\n",
    "    x0, y0 = max(0, xx-half), max(0, yy-half)\n",
    "    xf, yf = min(rawimg.shape[1]-1, x0+size), min(rawimg.shape[0]-1, y0+size)\n",
    "    x0, y0 = xf - size, yf - size\n",
    "    \n",
    "    img = rawimg[y0:yf, x0:xf]\n",
    "    mask = rawmask[y0:yf, x0:xf]\n",
    "    try:\n",
    "        assert img.shape == (size, size)\n",
    "        assert mask.shape == (size, size)\n",
    "    except:\n",
    "        raise Exception('Sample mismatch: %s %s' %(img.shape, mask.shape))\n",
    "    return img, mask\n",
    "\n",
    "SAVEPATH = '/home/ubuntu/datasets/tissue/cancers'\n",
    "import h5py\n",
    "__mismatch = 0\n",
    "__toobig = []\n",
    "def sample_boxes(case, ratio=2000, maxout=50):\n",
    "    global __mismatch\n",
    "    samples = []\n",
    "    sid = case['sid']\n",
    "    with pydicom.dcmread(case['image']) as db:\n",
    "        raw = db.pixel_array[:]\n",
    "        \n",
    "    for mii, mpath in enumerate(case['masks']):\n",
    "        with pydicom.dcmread(mpath) as db:\n",
    "            rawmask = db.pixel_array[:]\n",
    "        try:\n",
    "            assert raw.shape == rawmask.shape\n",
    "        except:\n",
    "            # some masks have been scaled down ~10% for some reason\n",
    "            scale = raw.shape[0] / rawmask.shape[0] # match Y\n",
    "            rawmask = cv2.resize(rawmask, (0,0), fx=scale, fy=scale)\n",
    "            scale = raw.shape[1] / rawmask.shape[1] # match X\n",
    "            rawmask = cv2.resize(rawmask, (0,0), fx=scale, fy=1)\n",
    "            assert raw.shape == rawmask.shape\n",
    "            __mismatch += 1\n",
    "            \n",
    "        roiY, roiX = np.nonzero(rawmask)\n",
    "        \n",
    "        if len(roiX) > 320**2: \n",
    "            __toobig.append([case, mii])\n",
    "            continue\n",
    "#         print(len(roiX))\n",
    "        samps = max(1, min(len(roiY) // ratio, maxout))\n",
    "        assert samps > 0\n",
    "            \n",
    "        ym, xm = int(np.mean(roiY)), int(np.mean(roiX))\n",
    "        img, mask = draw_sample(raw, rawmask, ym, xm, case=case)\n",
    "#         if img is None: continue # some error sampling\n",
    "            \n",
    "        ref = '%s' % (sid)\n",
    "        mask_path = '%s/%s.jpg'% (SAVEPATH, ref)\n",
    "        cv2.imwrite(mask_path, mask)\n",
    "        img_path = '%s/%s.npy' % (SAVEPATH, ref)\n",
    "        np.save(img_path, img)\n",
    "#         samples.append((img, mask))\n",
    "\n",
    "skip = 0\n",
    "selected = tosave[skip:]\n",
    "# selected = [one for one in tosave if one['sid'] == '02079_RIGHT_MLO']\n",
    "# assert len(selected) == 1\n",
    "for ii, case in enumerate(selected):\n",
    "    sample_boxes(case)\n",
    "    \n",
    "    sys.stdout.write('%d/%d  Miss: %d  Toobig: %d \\r' % (\n",
    "        ii, len(tosave)-skip, __mismatch, len(__toobig)))\n",
    "    sys.stdout.flush()"
   ]
  },
  {
   "cell_type": "code",
   "execution_count": null,
   "metadata": {},
   "outputs": [],
   "source": [
    "with open('.toobig.json', 'w') as fl:\n",
    "    json.dump(__toobig, fl, indent=4)\n"
   ]
  },
  {
   "cell_type": "code",
   "execution_count": null,
   "metadata": {},
   "outputs": [],
   "source": []
  }
 ],
 "metadata": {
  "kernelspec": {
   "display_name": "Python 3",
   "language": "python",
   "name": "python3"
  },
  "language_info": {
   "codemirror_mode": {
    "name": "ipython",
    "version": 3
   },
   "file_extension": ".py",
   "mimetype": "text/x-python",
   "name": "python",
   "nbconvert_exporter": "python",
   "pygments_lexer": "ipython3",
   "version": "3.5.2"
  }
 },
 "nbformat": 4,
 "nbformat_minor": 2
}
