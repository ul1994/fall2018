{
 "cells": [
  {
   "cell_type": "code",
   "execution_count": 32,
   "metadata": {},
   "outputs": [],
   "source": [
    "import os, sys, cv2, pydicom\n",
    "import matplotlib.pyplot as plt\n",
    "import numpy as np"
   ]
  },
  {
   "cell_type": "code",
   "execution_count": 33,
   "metadata": {},
   "outputs": [],
   "source": [
    "DPATH = '/home/ubuntu/datasets/chest/CBIS-DDSM'\n",
    "cases = os.listdir(DPATH)"
   ]
  },
  {
   "cell_type": "code",
   "execution_count": 34,
   "metadata": {},
   "outputs": [
    {
     "name": "stdout",
     "output_type": "stream",
     "text": [
      "3031\n"
     ]
    }
   ],
   "source": [
    "import json\n",
    "\n",
    "with open('.cbis_cache.json') as fl:\n",
    "    tosave = json.load(fl)\n",
    "print(len(tosave))"
   ]
  },
  {
   "cell_type": "code",
   "execution_count": 43,
   "metadata": {},
   "outputs": [
    {
     "name": "stdout",
     "output_type": "stream",
     "text": [
      "57/3031 Samps: 94.5  Skips: 4   Miss: 0    \r"
     ]
    },
    {
     "ename": "KeyboardInterrupt",
     "evalue": "",
     "output_type": "error",
     "traceback": [
      "\u001b[0;31m---------------------------------------------------------------------------\u001b[0m",
      "\u001b[0;31mKeyboardInterrupt\u001b[0m                         Traceback (most recent call last)",
      "\u001b[0;32m<ipython-input-43-146c10849c6d>\u001b[0m in \u001b[0;36m<module>\u001b[0;34m()\u001b[0m\n\u001b[1;32m     60\u001b[0m \u001b[0mskip\u001b[0m \u001b[0;34m=\u001b[0m \u001b[0;36m0\u001b[0m\u001b[0;34m\u001b[0m\u001b[0m\n\u001b[1;32m     61\u001b[0m \u001b[0;32mfor\u001b[0m \u001b[0mii\u001b[0m\u001b[0;34m,\u001b[0m \u001b[0mcase\u001b[0m \u001b[0;32min\u001b[0m \u001b[0menumerate\u001b[0m\u001b[0;34m(\u001b[0m\u001b[0mtosave\u001b[0m\u001b[0;34m[\u001b[0m\u001b[0mskip\u001b[0m\u001b[0;34m:\u001b[0m\u001b[0;34m]\u001b[0m\u001b[0;34m)\u001b[0m\u001b[0;34m:\u001b[0m\u001b[0;34m\u001b[0m\u001b[0m\n\u001b[0;32m---> 62\u001b[0;31m     \u001b[0mnsamps\u001b[0m\u001b[0;34m,\u001b[0m \u001b[0mnskips\u001b[0m \u001b[0;34m=\u001b[0m \u001b[0msample_boxes\u001b[0m\u001b[0;34m(\u001b[0m\u001b[0mcase\u001b[0m\u001b[0;34m)\u001b[0m\u001b[0;34m\u001b[0m\u001b[0m\n\u001b[0m\u001b[1;32m     63\u001b[0m     \u001b[0msampcounts\u001b[0m\u001b[0;34m.\u001b[0m\u001b[0mappend\u001b[0m\u001b[0;34m(\u001b[0m\u001b[0mnsamps\u001b[0m\u001b[0;34m)\u001b[0m\u001b[0;34m\u001b[0m\u001b[0m\n\u001b[1;32m     64\u001b[0m \u001b[0;34m\u001b[0m\u001b[0m\n",
      "\u001b[0;32m<ipython-input-43-146c10849c6d>\u001b[0m in \u001b[0;36msample_boxes\u001b[0;34m(case, ratio, maxout)\u001b[0m\n\u001b[1;32m     22\u001b[0m             \u001b[0mbadmask\u001b[0m \u001b[0;34m=\u001b[0m \u001b[0;32mTrue\u001b[0m\u001b[0;34m\u001b[0m\u001b[0m\n\u001b[1;32m     23\u001b[0m             \u001b[0;32mbreak\u001b[0m\u001b[0;34m\u001b[0m\u001b[0m\n\u001b[0;32m---> 24\u001b[0;31m         \u001b[0mmask\u001b[0m \u001b[0;34m=\u001b[0m \u001b[0mnp\u001b[0m\u001b[0;34m.\u001b[0m\u001b[0mlogical_or\u001b[0m\u001b[0;34m(\u001b[0m\u001b[0mmask\u001b[0m\u001b[0;34m,\u001b[0m \u001b[0mrawmask\u001b[0m\u001b[0;34m.\u001b[0m\u001b[0mastype\u001b[0m\u001b[0;34m(\u001b[0m\u001b[0mnp\u001b[0m\u001b[0;34m.\u001b[0m\u001b[0mbool\u001b[0m\u001b[0;34m)\u001b[0m\u001b[0;34m)\u001b[0m\u001b[0;34m\u001b[0m\u001b[0m\n\u001b[0m\u001b[1;32m     25\u001b[0m     \u001b[0;32mif\u001b[0m \u001b[0mbadmask\u001b[0m\u001b[0;34m:\u001b[0m \u001b[0;32mreturn\u001b[0m\u001b[0;34m\u001b[0m\u001b[0m\n\u001b[1;32m     26\u001b[0m \u001b[0;34m\u001b[0m\u001b[0m\n",
      "\u001b[0;31mKeyboardInterrupt\u001b[0m: "
     ]
    }
   ],
   "source": [
    "from random import randint\n",
    "\n",
    "SAVEPATH = '/home/ubuntu/datasets/tissue/healthy'\n",
    "__mismatch = 0\n",
    "\n",
    "def sample_boxes(case, ratio=2000, maxout=50):\n",
    "    global __mismatch\n",
    "    sid = case['sid']\n",
    "    with pydicom.dcmread(case['image']) as db:\n",
    "        rawimg = db.pixel_array[:]\n",
    "\n",
    "    \n",
    "    badmask = False\n",
    "    mask = np.zeros(rawimg.shape).astype(np.bool)\n",
    "    coverage = np.zeros(rawimg.shape).astype(np.bool)\n",
    "    for maskpath in case['masks']:\n",
    "        with pydicom.dcmread(maskpath) as db:\n",
    "            rawmask = db.pixel_array[:]\n",
    "        try: assert rawimg.shape == rawmask.shape\n",
    "        except:\n",
    "            __mismatch += 1\n",
    "            badmask = True\n",
    "            break\n",
    "        mask = np.logical_or(mask, rawmask.astype(np.bool))\n",
    "    if badmask: return\n",
    "    \n",
    "    ssize = 320\n",
    "    ys = rawimg.shape[0] // ssize + 1\n",
    "    xs = rawimg.shape[1] // ssize + 1\n",
    "    num_samples = 0\n",
    "    num_ignored = 0\n",
    "    for yii in range(ys):\n",
    "        for xii in range(xs):\n",
    "            yy = min(yii * ssize, rawimg.shape[0] - ssize)\n",
    "            xx = min(xii * ssize, rawimg.shape[1] - ssize)\n",
    "            ipatch = rawimg[yy:yy+ssize, xx:xx+ssize]\n",
    "            if np.mean(ipatch) > 500:\n",
    "                mpatch = mask[yy:yy+ssize, xx:xx+ssize]\n",
    "                if np.sum(mpatch) != 0: \n",
    "                    num_ignored += 1\n",
    "                    continue # skip if there is mask here\n",
    "                coverage[yy:yy+ssize, xx:xx+ssize] = True\n",
    "                ref = '%s_%s_%s' % (case['sid'], yy, xx)\n",
    "                np.save('%s/%s.npy' % (SAVEPATH, ref), ipatch)\n",
    "                num_samples += 1\n",
    "                \n",
    "#     if num_samples > 150:\n",
    "#         print(num_samples)\n",
    "#         plt.figure(figsize=(14, 14))\n",
    "#         plt.subplot(1, 2, 1)\n",
    "#         plt.imshow(rawimg)\n",
    "#         plt.subplot(1, 2, 2)\n",
    "#         plt.imshow(coverage)\n",
    "#         plt.show()\n",
    "#         plt.close()\n",
    "#         assert False\n",
    "    return num_samples, num_ignored\n",
    "\n",
    "sampcounts = []\n",
    "skip = 0\n",
    "for ii, case in enumerate(tosave[skip:]):\n",
    "    nsamps, nskips = sample_boxes(case)\n",
    "    sampcounts.append(nsamps)\n",
    "    \n",
    "    sys.stdout.write('%d/%d Samps: %.1f  Skips: %d   Miss: %d   \\r' % (\n",
    "        ii, len(tosave)-skip, np.mean(sampcounts), nskips, __mismatch))\n",
    "    sys.stdout.flush()\n",
    "#     break"
   ]
  },
  {
   "cell_type": "code",
   "execution_count": null,
   "metadata": {},
   "outputs": [],
   "source": []
  }
 ],
 "metadata": {
  "kernelspec": {
   "display_name": "Python 3",
   "language": "python",
   "name": "python3"
  },
  "language_info": {
   "codemirror_mode": {
    "name": "ipython",
    "version": 3
   },
   "file_extension": ".py",
   "mimetype": "text/x-python",
   "name": "python",
   "nbconvert_exporter": "python",
   "pygments_lexer": "ipython3",
   "version": "3.5.2"
  }
 },
 "nbformat": 4,
 "nbformat_minor": 2
}
